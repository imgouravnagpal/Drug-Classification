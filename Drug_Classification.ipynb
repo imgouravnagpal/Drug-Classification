{
 "cells": [
  {
   "cell_type": "code",
   "execution_count": 2,
   "id": "b9316ad1",
   "metadata": {
    "execution": {
     "iopub.execute_input": "2024-02-07T20:45:03.155132Z",
     "iopub.status.busy": "2024-02-07T20:45:03.154700Z",
     "iopub.status.idle": "2024-02-07T20:45:06.552240Z",
     "shell.execute_reply": "2024-02-07T20:45:06.551283Z"
    },
    "papermill": {
     "duration": 3.417261,
     "end_time": "2024-02-07T20:45:06.555204",
     "exception": false,
     "start_time": "2024-02-07T20:45:03.137943",
     "status": "completed"
    },
    "tags": []
   },
   "outputs": [],
   "source": [
    "import numpy as np\n",
    "import pandas as pd\n",
    "import matplotlib.pyplot as plt\n",
    "from sklearn.svm import SVC\n",
    "from sklearn.ensemble import RandomForestClassifier\n",
    "from sklearn.tree import DecisionTreeClassifier\n",
    "from sklearn.metrics import confusion_matrix, classification_report , accuracy_score\n",
    "from sklearn.model_selection import train_test_split"
   ]
  },
  {
   "cell_type": "code",
   "execution_count": 3,
   "id": "7332b7b2",
   "metadata": {
    "execution": {
     "iopub.execute_input": "2024-02-07T20:45:06.624140Z",
     "iopub.status.busy": "2024-02-07T20:45:06.623545Z",
     "iopub.status.idle": "2024-02-07T20:45:06.676998Z",
     "shell.execute_reply": "2024-02-07T20:45:06.675551Z"
    },
    "papermill": {
     "duration": 0.077349,
     "end_time": "2024-02-07T20:45:06.680728",
     "exception": false,
     "start_time": "2024-02-07T20:45:06.603379",
     "status": "completed"
    },
    "tags": []
   },
   "outputs": [
    {
     "data": {
      "text/html": [
       "<div>\n",
       "<style scoped>\n",
       "    .dataframe tbody tr th:only-of-type {\n",
       "        vertical-align: middle;\n",
       "    }\n",
       "\n",
       "    .dataframe tbody tr th {\n",
       "        vertical-align: top;\n",
       "    }\n",
       "\n",
       "    .dataframe thead th {\n",
       "        text-align: right;\n",
       "    }\n",
       "</style>\n",
       "<table border=\"1\" class=\"dataframe\">\n",
       "  <thead>\n",
       "    <tr style=\"text-align: right;\">\n",
       "      <th></th>\n",
       "      <th>Age</th>\n",
       "      <th>Sex</th>\n",
       "      <th>BP</th>\n",
       "      <th>Cholesterol</th>\n",
       "      <th>Na_to_K</th>\n",
       "      <th>Drug</th>\n",
       "    </tr>\n",
       "  </thead>\n",
       "  <tbody>\n",
       "    <tr>\n",
       "      <th>0</th>\n",
       "      <td>23</td>\n",
       "      <td>F</td>\n",
       "      <td>HIGH</td>\n",
       "      <td>HIGH</td>\n",
       "      <td>25.355</td>\n",
       "      <td>DrugY</td>\n",
       "    </tr>\n",
       "    <tr>\n",
       "      <th>1</th>\n",
       "      <td>47</td>\n",
       "      <td>M</td>\n",
       "      <td>LOW</td>\n",
       "      <td>HIGH</td>\n",
       "      <td>13.093</td>\n",
       "      <td>drugC</td>\n",
       "    </tr>\n",
       "    <tr>\n",
       "      <th>2</th>\n",
       "      <td>47</td>\n",
       "      <td>M</td>\n",
       "      <td>LOW</td>\n",
       "      <td>HIGH</td>\n",
       "      <td>10.114</td>\n",
       "      <td>drugC</td>\n",
       "    </tr>\n",
       "    <tr>\n",
       "      <th>3</th>\n",
       "      <td>28</td>\n",
       "      <td>F</td>\n",
       "      <td>NORMAL</td>\n",
       "      <td>HIGH</td>\n",
       "      <td>7.798</td>\n",
       "      <td>drugX</td>\n",
       "    </tr>\n",
       "    <tr>\n",
       "      <th>4</th>\n",
       "      <td>61</td>\n",
       "      <td>F</td>\n",
       "      <td>LOW</td>\n",
       "      <td>HIGH</td>\n",
       "      <td>18.043</td>\n",
       "      <td>DrugY</td>\n",
       "    </tr>\n",
       "    <tr>\n",
       "      <th>...</th>\n",
       "      <td>...</td>\n",
       "      <td>...</td>\n",
       "      <td>...</td>\n",
       "      <td>...</td>\n",
       "      <td>...</td>\n",
       "      <td>...</td>\n",
       "    </tr>\n",
       "    <tr>\n",
       "      <th>195</th>\n",
       "      <td>56</td>\n",
       "      <td>F</td>\n",
       "      <td>LOW</td>\n",
       "      <td>HIGH</td>\n",
       "      <td>11.567</td>\n",
       "      <td>drugC</td>\n",
       "    </tr>\n",
       "    <tr>\n",
       "      <th>196</th>\n",
       "      <td>16</td>\n",
       "      <td>M</td>\n",
       "      <td>LOW</td>\n",
       "      <td>HIGH</td>\n",
       "      <td>12.006</td>\n",
       "      <td>drugC</td>\n",
       "    </tr>\n",
       "    <tr>\n",
       "      <th>197</th>\n",
       "      <td>52</td>\n",
       "      <td>M</td>\n",
       "      <td>NORMAL</td>\n",
       "      <td>HIGH</td>\n",
       "      <td>9.894</td>\n",
       "      <td>drugX</td>\n",
       "    </tr>\n",
       "    <tr>\n",
       "      <th>198</th>\n",
       "      <td>23</td>\n",
       "      <td>M</td>\n",
       "      <td>NORMAL</td>\n",
       "      <td>NORMAL</td>\n",
       "      <td>14.020</td>\n",
       "      <td>drugX</td>\n",
       "    </tr>\n",
       "    <tr>\n",
       "      <th>199</th>\n",
       "      <td>40</td>\n",
       "      <td>F</td>\n",
       "      <td>LOW</td>\n",
       "      <td>NORMAL</td>\n",
       "      <td>11.349</td>\n",
       "      <td>drugX</td>\n",
       "    </tr>\n",
       "  </tbody>\n",
       "</table>\n",
       "<p>200 rows × 6 columns</p>\n",
       "</div>"
      ],
      "text/plain": [
       "     Age Sex      BP Cholesterol  Na_to_K   Drug\n",
       "0     23   F    HIGH        HIGH   25.355  DrugY\n",
       "1     47   M     LOW        HIGH   13.093  drugC\n",
       "2     47   M     LOW        HIGH   10.114  drugC\n",
       "3     28   F  NORMAL        HIGH    7.798  drugX\n",
       "4     61   F     LOW        HIGH   18.043  DrugY\n",
       "..   ...  ..     ...         ...      ...    ...\n",
       "195   56   F     LOW        HIGH   11.567  drugC\n",
       "196   16   M     LOW        HIGH   12.006  drugC\n",
       "197   52   M  NORMAL        HIGH    9.894  drugX\n",
       "198   23   M  NORMAL      NORMAL   14.020  drugX\n",
       "199   40   F     LOW      NORMAL   11.349  drugX\n",
       "\n",
       "[200 rows x 6 columns]"
      ]
     },
     "execution_count": 3,
     "metadata": {},
     "output_type": "execute_result"
    }
   ],
   "source": [
    "df = pd.read_csv('drug200.csv')\n",
    "df"
   ]
  },
  {
   "cell_type": "code",
   "execution_count": 4,
   "id": "fc8b18b9",
   "metadata": {
    "execution": {
     "iopub.execute_input": "2024-02-07T20:45:06.716525Z",
     "iopub.status.busy": "2024-02-07T20:45:06.715551Z",
     "iopub.status.idle": "2024-02-07T20:45:06.729333Z",
     "shell.execute_reply": "2024-02-07T20:45:06.728245Z"
    },
    "papermill": {
     "duration": 0.034246,
     "end_time": "2024-02-07T20:45:06.732167",
     "exception": false,
     "start_time": "2024-02-07T20:45:06.697921",
     "status": "completed"
    },
    "tags": []
   },
   "outputs": [
    {
     "data": {
      "text/plain": [
       "<bound method NDFrame.describe of      Age Sex      BP Cholesterol  Na_to_K   Drug\n",
       "0     23   F    HIGH        HIGH   25.355  DrugY\n",
       "1     47   M     LOW        HIGH   13.093  drugC\n",
       "2     47   M     LOW        HIGH   10.114  drugC\n",
       "3     28   F  NORMAL        HIGH    7.798  drugX\n",
       "4     61   F     LOW        HIGH   18.043  DrugY\n",
       "..   ...  ..     ...         ...      ...    ...\n",
       "195   56   F     LOW        HIGH   11.567  drugC\n",
       "196   16   M     LOW        HIGH   12.006  drugC\n",
       "197   52   M  NORMAL        HIGH    9.894  drugX\n",
       "198   23   M  NORMAL      NORMAL   14.020  drugX\n",
       "199   40   F     LOW      NORMAL   11.349  drugX\n",
       "\n",
       "[200 rows x 6 columns]>"
      ]
     },
     "execution_count": 4,
     "metadata": {},
     "output_type": "execute_result"
    }
   ],
   "source": [
    "df.describe"
   ]
  },
  {
   "cell_type": "code",
   "execution_count": 6,
   "id": "d5230be4",
   "metadata": {
    "execution": {
     "iopub.execute_input": "2024-02-07T20:45:06.828842Z",
     "iopub.status.busy": "2024-02-07T20:45:06.827836Z",
     "iopub.status.idle": "2024-02-07T20:45:06.837592Z",
     "shell.execute_reply": "2024-02-07T20:45:06.836526Z"
    },
    "papermill": {
     "duration": 0.029126,
     "end_time": "2024-02-07T20:45:06.840330",
     "exception": false,
     "start_time": "2024-02-07T20:45:06.811204",
     "status": "completed"
    },
    "tags": []
   },
   "outputs": [
    {
     "data": {
      "text/plain": [
       "Age              int64\n",
       "Sex             object\n",
       "BP              object\n",
       "Cholesterol     object\n",
       "Na_to_K        float64\n",
       "Drug            object\n",
       "dtype: object"
      ]
     },
     "execution_count": 6,
     "metadata": {},
     "output_type": "execute_result"
    }
   ],
   "source": [
    "data_type = df.dtypes\n",
    "data_type"
   ]
  },
  {
   "cell_type": "code",
   "execution_count": 7,
   "id": "bee568af",
   "metadata": {
    "execution": {
     "iopub.execute_input": "2024-02-07T20:45:06.873392Z",
     "iopub.status.busy": "2024-02-07T20:45:06.872434Z",
     "iopub.status.idle": "2024-02-07T20:45:06.883683Z",
     "shell.execute_reply": "2024-02-07T20:45:06.882182Z"
    },
    "papermill": {
     "duration": 0.030896,
     "end_time": "2024-02-07T20:45:06.886550",
     "exception": false,
     "start_time": "2024-02-07T20:45:06.855654",
     "status": "completed"
    },
    "tags": []
   },
   "outputs": [
    {
     "data": {
      "text/plain": [
       "Age            0\n",
       "Sex            0\n",
       "BP             0\n",
       "Cholesterol    0\n",
       "Na_to_K        0\n",
       "Drug           0\n",
       "dtype: int64"
      ]
     },
     "execution_count": 7,
     "metadata": {},
     "output_type": "execute_result"
    }
   ],
   "source": [
    "null = df.isnull().sum()\n",
    "null"
   ]
  },
  {
   "cell_type": "code",
   "execution_count": 8,
   "id": "714c8f7f",
   "metadata": {
    "execution": {
     "iopub.execute_input": "2024-02-07T20:45:06.921016Z",
     "iopub.status.busy": "2024-02-07T20:45:06.920083Z",
     "iopub.status.idle": "2024-02-07T20:45:06.929697Z",
     "shell.execute_reply": "2024-02-07T20:45:06.928603Z"
    },
    "papermill": {
     "duration": 0.029744,
     "end_time": "2024-02-07T20:45:06.932328",
     "exception": false,
     "start_time": "2024-02-07T20:45:06.902584",
     "status": "completed"
    },
    "tags": []
   },
   "outputs": [
    {
     "data": {
      "text/plain": [
       "0"
      ]
     },
     "execution_count": 8,
     "metadata": {},
     "output_type": "execute_result"
    }
   ],
   "source": [
    "df.duplicated().sum()"
   ]
  },
  {
   "cell_type": "code",
   "execution_count": 9,
   "id": "62afa0bb",
   "metadata": {
    "execution": {
     "iopub.execute_input": "2024-02-07T20:45:06.966060Z",
     "iopub.status.busy": "2024-02-07T20:45:06.965133Z",
     "iopub.status.idle": "2024-02-07T20:45:06.972998Z",
     "shell.execute_reply": "2024-02-07T20:45:06.971936Z"
    },
    "papermill": {
     "duration": 0.027762,
     "end_time": "2024-02-07T20:45:06.975688",
     "exception": false,
     "start_time": "2024-02-07T20:45:06.947926",
     "status": "completed"
    },
    "tags": []
   },
   "outputs": [
    {
     "data": {
      "text/plain": [
       "array(['DrugY', 'drugC', 'drugX', 'drugA', 'drugB'], dtype=object)"
      ]
     },
     "execution_count": 9,
     "metadata": {},
     "output_type": "execute_result"
    }
   ],
   "source": [
    "df['Drug'].unique()\n"
   ]
  },
  {
   "cell_type": "code",
   "execution_count": 10,
   "id": "e021275b",
   "metadata": {
    "execution": {
     "iopub.execute_input": "2024-02-07T20:45:07.363179Z",
     "iopub.status.busy": "2024-02-07T20:45:07.362438Z",
     "iopub.status.idle": "2024-02-07T20:45:07.370883Z",
     "shell.execute_reply": "2024-02-07T20:45:07.369738Z"
    },
    "papermill": {
     "duration": 0.02942,
     "end_time": "2024-02-07T20:45:07.374197",
     "exception": false,
     "start_time": "2024-02-07T20:45:07.344777",
     "status": "completed"
    },
    "tags": []
   },
   "outputs": [],
   "source": [
    "X=df.drop(columns='Drug')\n",
    "y=df['Drug']"
   ]
  },
  {
   "cell_type": "code",
   "execution_count": 11,
   "id": "e00a6746",
   "metadata": {
    "execution": {
     "iopub.execute_input": "2024-02-07T20:45:07.408060Z",
     "iopub.status.busy": "2024-02-07T20:45:07.407623Z",
     "iopub.status.idle": "2024-02-07T20:45:07.435042Z",
     "shell.execute_reply": "2024-02-07T20:45:07.433478Z"
    },
    "papermill": {
     "duration": 0.047703,
     "end_time": "2024-02-07T20:45:07.437550",
     "exception": false,
     "start_time": "2024-02-07T20:45:07.389847",
     "status": "completed"
    },
    "tags": []
   },
   "outputs": [
    {
     "data": {
      "text/html": [
       "<div>\n",
       "<style scoped>\n",
       "    .dataframe tbody tr th:only-of-type {\n",
       "        vertical-align: middle;\n",
       "    }\n",
       "\n",
       "    .dataframe tbody tr th {\n",
       "        vertical-align: top;\n",
       "    }\n",
       "\n",
       "    .dataframe thead th {\n",
       "        text-align: right;\n",
       "    }\n",
       "</style>\n",
       "<table border=\"1\" class=\"dataframe\">\n",
       "  <thead>\n",
       "    <tr style=\"text-align: right;\">\n",
       "      <th></th>\n",
       "      <th>Age</th>\n",
       "      <th>Na_to_K</th>\n",
       "      <th>Sex_M</th>\n",
       "      <th>BP_LOW</th>\n",
       "      <th>BP_NORMAL</th>\n",
       "      <th>Cholesterol_NORMAL</th>\n",
       "    </tr>\n",
       "  </thead>\n",
       "  <tbody>\n",
       "    <tr>\n",
       "      <th>0</th>\n",
       "      <td>23</td>\n",
       "      <td>25.355</td>\n",
       "      <td>0.0</td>\n",
       "      <td>0.0</td>\n",
       "      <td>0.0</td>\n",
       "      <td>0.0</td>\n",
       "    </tr>\n",
       "    <tr>\n",
       "      <th>1</th>\n",
       "      <td>47</td>\n",
       "      <td>13.093</td>\n",
       "      <td>1.0</td>\n",
       "      <td>1.0</td>\n",
       "      <td>0.0</td>\n",
       "      <td>0.0</td>\n",
       "    </tr>\n",
       "    <tr>\n",
       "      <th>2</th>\n",
       "      <td>47</td>\n",
       "      <td>10.114</td>\n",
       "      <td>1.0</td>\n",
       "      <td>1.0</td>\n",
       "      <td>0.0</td>\n",
       "      <td>0.0</td>\n",
       "    </tr>\n",
       "    <tr>\n",
       "      <th>3</th>\n",
       "      <td>28</td>\n",
       "      <td>7.798</td>\n",
       "      <td>0.0</td>\n",
       "      <td>0.0</td>\n",
       "      <td>1.0</td>\n",
       "      <td>0.0</td>\n",
       "    </tr>\n",
       "    <tr>\n",
       "      <th>4</th>\n",
       "      <td>61</td>\n",
       "      <td>18.043</td>\n",
       "      <td>0.0</td>\n",
       "      <td>1.0</td>\n",
       "      <td>0.0</td>\n",
       "      <td>0.0</td>\n",
       "    </tr>\n",
       "    <tr>\n",
       "      <th>...</th>\n",
       "      <td>...</td>\n",
       "      <td>...</td>\n",
       "      <td>...</td>\n",
       "      <td>...</td>\n",
       "      <td>...</td>\n",
       "      <td>...</td>\n",
       "    </tr>\n",
       "    <tr>\n",
       "      <th>195</th>\n",
       "      <td>56</td>\n",
       "      <td>11.567</td>\n",
       "      <td>0.0</td>\n",
       "      <td>1.0</td>\n",
       "      <td>0.0</td>\n",
       "      <td>0.0</td>\n",
       "    </tr>\n",
       "    <tr>\n",
       "      <th>196</th>\n",
       "      <td>16</td>\n",
       "      <td>12.006</td>\n",
       "      <td>1.0</td>\n",
       "      <td>1.0</td>\n",
       "      <td>0.0</td>\n",
       "      <td>0.0</td>\n",
       "    </tr>\n",
       "    <tr>\n",
       "      <th>197</th>\n",
       "      <td>52</td>\n",
       "      <td>9.894</td>\n",
       "      <td>1.0</td>\n",
       "      <td>0.0</td>\n",
       "      <td>1.0</td>\n",
       "      <td>0.0</td>\n",
       "    </tr>\n",
       "    <tr>\n",
       "      <th>198</th>\n",
       "      <td>23</td>\n",
       "      <td>14.020</td>\n",
       "      <td>1.0</td>\n",
       "      <td>0.0</td>\n",
       "      <td>1.0</td>\n",
       "      <td>1.0</td>\n",
       "    </tr>\n",
       "    <tr>\n",
       "      <th>199</th>\n",
       "      <td>40</td>\n",
       "      <td>11.349</td>\n",
       "      <td>0.0</td>\n",
       "      <td>1.0</td>\n",
       "      <td>0.0</td>\n",
       "      <td>1.0</td>\n",
       "    </tr>\n",
       "  </tbody>\n",
       "</table>\n",
       "<p>200 rows × 6 columns</p>\n",
       "</div>"
      ],
      "text/plain": [
       "     Age  Na_to_K  Sex_M  BP_LOW  BP_NORMAL  Cholesterol_NORMAL\n",
       "0     23   25.355    0.0     0.0        0.0                 0.0\n",
       "1     47   13.093    1.0     1.0        0.0                 0.0\n",
       "2     47   10.114    1.0     1.0        0.0                 0.0\n",
       "3     28    7.798    0.0     0.0        1.0                 0.0\n",
       "4     61   18.043    0.0     1.0        0.0                 0.0\n",
       "..   ...      ...    ...     ...        ...                 ...\n",
       "195   56   11.567    0.0     1.0        0.0                 0.0\n",
       "196   16   12.006    1.0     1.0        0.0                 0.0\n",
       "197   52    9.894    1.0     0.0        1.0                 0.0\n",
       "198   23   14.020    1.0     0.0        1.0                 1.0\n",
       "199   40   11.349    0.0     1.0        0.0                 1.0\n",
       "\n",
       "[200 rows x 6 columns]"
      ]
     },
     "execution_count": 11,
     "metadata": {},
     "output_type": "execute_result"
    }
   ],
   "source": [
    "X=pd.get_dummies(X,dtype=float,drop_first=True)\n",
    "X"
   ]
  },
  {
   "cell_type": "code",
   "execution_count": 12,
   "id": "47d8b9fa",
   "metadata": {
    "execution": {
     "iopub.execute_input": "2024-02-07T20:45:08.872650Z",
     "iopub.status.busy": "2024-02-07T20:45:08.872142Z",
     "iopub.status.idle": "2024-02-07T20:45:08.882017Z",
     "shell.execute_reply": "2024-02-07T20:45:08.880922Z"
    },
    "papermill": {
     "duration": 0.032037,
     "end_time": "2024-02-07T20:45:08.884644",
     "exception": false,
     "start_time": "2024-02-07T20:45:08.852607",
     "status": "completed"
    },
    "tags": []
   },
   "outputs": [],
   "source": [
    "X_train , X_test , y_train , y_test = train_test_split(X , y , test_size=0.2 , random_state=42)"
   ]
  },
  {
   "cell_type": "markdown",
   "id": "6dc7d2de",
   "metadata": {},
   "source": [
    "# Random Forest Classifier"
   ]
  },
  {
   "cell_type": "code",
   "execution_count": 13,
   "id": "b017a144",
   "metadata": {
    "execution": {
     "iopub.execute_input": "2024-02-07T20:45:08.957231Z",
     "iopub.status.busy": "2024-02-07T20:45:08.956802Z",
     "iopub.status.idle": "2024-02-07T20:45:09.217515Z",
     "shell.execute_reply": "2024-02-07T20:45:09.215816Z"
    },
    "papermill": {
     "duration": 0.283793,
     "end_time": "2024-02-07T20:45:09.221203",
     "exception": false,
     "start_time": "2024-02-07T20:45:08.937410",
     "status": "completed"
    },
    "tags": []
   },
   "outputs": [
    {
     "data": {
      "text/plain": [
       "RandomForestClassifier()"
      ]
     },
     "execution_count": 13,
     "metadata": {},
     "output_type": "execute_result"
    }
   ],
   "source": [
    "model1 = RandomForestClassifier(n_estimators= 100)\n",
    "model1.fit(X_train , y_train)"
   ]
  },
  {
   "cell_type": "code",
   "execution_count": 14,
   "id": "f21dc1a1",
   "metadata": {
    "execution": {
     "iopub.execute_input": "2024-02-07T20:45:09.261155Z",
     "iopub.status.busy": "2024-02-07T20:45:09.260745Z",
     "iopub.status.idle": "2024-02-07T20:45:09.283901Z",
     "shell.execute_reply": "2024-02-07T20:45:09.282938Z"
    },
    "papermill": {
     "duration": 0.045574,
     "end_time": "2024-02-07T20:45:09.286122",
     "exception": false,
     "start_time": "2024-02-07T20:45:09.240548",
     "status": "completed"
    },
    "tags": []
   },
   "outputs": [
    {
     "data": {
      "text/plain": [
       "1.0"
      ]
     },
     "execution_count": 14,
     "metadata": {},
     "output_type": "execute_result"
    }
   ],
   "source": [
    "model1.score(X_train , y_train)"
   ]
  },
  {
   "cell_type": "code",
   "execution_count": 17,
   "id": "51cb26f9",
   "metadata": {
    "execution": {
     "iopub.execute_input": "2024-02-07T20:45:09.324876Z",
     "iopub.status.busy": "2024-02-07T20:45:09.324029Z",
     "iopub.status.idle": "2024-02-07T20:45:09.339229Z",
     "shell.execute_reply": "2024-02-07T20:45:09.338037Z"
    },
    "papermill": {
     "duration": 0.037755,
     "end_time": "2024-02-07T20:45:09.341950",
     "exception": false,
     "start_time": "2024-02-07T20:45:09.304195",
     "status": "completed"
    },
    "tags": []
   },
   "outputs": [],
   "source": [
    "model1_predictions = model1.predict(X_test)"
   ]
  },
  {
   "cell_type": "code",
   "execution_count": 18,
   "id": "abfc3ee1",
   "metadata": {
    "execution": {
     "iopub.execute_input": "2024-02-07T20:45:09.380732Z",
     "iopub.status.busy": "2024-02-07T20:45:09.379883Z",
     "iopub.status.idle": "2024-02-07T20:45:09.385930Z",
     "shell.execute_reply": "2024-02-07T20:45:09.385022Z"
    },
    "papermill": {
     "duration": 0.028302,
     "end_time": "2024-02-07T20:45:09.388274",
     "exception": false,
     "start_time": "2024-02-07T20:45:09.359972",
     "status": "completed"
    },
    "tags": []
   },
   "outputs": [],
   "source": [
    "model1_accuracy = accuracy_score(y_test , model1_predictions)"
   ]
  },
  {
   "cell_type": "code",
   "execution_count": 19,
   "id": "a1edb865",
   "metadata": {
    "execution": {
     "iopub.execute_input": "2024-02-07T20:45:09.427057Z",
     "iopub.status.busy": "2024-02-07T20:45:09.426178Z",
     "iopub.status.idle": "2024-02-07T20:45:09.444519Z",
     "shell.execute_reply": "2024-02-07T20:45:09.443524Z"
    },
    "papermill": {
     "duration": 0.040944,
     "end_time": "2024-02-07T20:45:09.447088",
     "exception": false,
     "start_time": "2024-02-07T20:45:09.406144",
     "status": "completed"
    },
    "tags": []
   },
   "outputs": [
    {
     "name": "stdout",
     "output_type": "stream",
     "text": [
      "              precision    recall  f1-score   support\n",
      "\n",
      "       DrugY       1.00      1.00      1.00        15\n",
      "       drugA       1.00      1.00      1.00         6\n",
      "       drugB       1.00      1.00      1.00         3\n",
      "       drugC       1.00      1.00      1.00         5\n",
      "       drugX       1.00      1.00      1.00        11\n",
      "\n",
      "    accuracy                           1.00        40\n",
      "   macro avg       1.00      1.00      1.00        40\n",
      "weighted avg       1.00      1.00      1.00        40\n",
      "\n"
     ]
    }
   ],
   "source": [
    "print(classification_report(y_test , model1_predictions))"
   ]
  },
  {
   "cell_type": "markdown",
   "id": "5374f2c0",
   "metadata": {},
   "source": [
    "# support Vector Classifier"
   ]
  },
  {
   "cell_type": "code",
   "execution_count": 27,
   "id": "b24b7dec",
   "metadata": {
    "execution": {
     "iopub.execute_input": "2024-02-07T20:45:10.138047Z",
     "iopub.status.busy": "2024-02-07T20:45:10.137254Z",
     "iopub.status.idle": "2024-02-07T20:45:10.155240Z",
     "shell.execute_reply": "2024-02-07T20:45:10.153884Z"
    },
    "papermill": {
     "duration": 0.042813,
     "end_time": "2024-02-07T20:45:10.158397",
     "exception": false,
     "start_time": "2024-02-07T20:45:10.115584",
     "status": "completed"
    },
    "tags": []
   },
   "outputs": [
    {
     "data": {
      "text/plain": [
       "SVC(kernel='linear', random_state=42)"
      ]
     },
     "execution_count": 27,
     "metadata": {},
     "output_type": "execute_result"
    }
   ],
   "source": [
    "from sklearn import svm\n",
    "model2 = svm.SVC(kernel='linear', random_state = 42)\n",
    "model2.fit(X_train, y_train)"
   ]
  },
  {
   "cell_type": "code",
   "execution_count": 28,
   "id": "bbc19741",
   "metadata": {
    "execution": {
     "iopub.execute_input": "2024-02-07T20:45:10.202352Z",
     "iopub.status.busy": "2024-02-07T20:45:10.201873Z",
     "iopub.status.idle": "2024-02-07T20:45:10.215399Z",
     "shell.execute_reply": "2024-02-07T20:45:10.213913Z"
    },
    "papermill": {
     "duration": 0.039351,
     "end_time": "2024-02-07T20:45:10.218623",
     "exception": false,
     "start_time": "2024-02-07T20:45:10.179272",
     "status": "completed"
    },
    "tags": []
   },
   "outputs": [
    {
     "data": {
      "text/plain": [
       "1.0"
      ]
     },
     "execution_count": 28,
     "metadata": {},
     "output_type": "execute_result"
    }
   ],
   "source": [
    "model2.score(X_train , y_train)"
   ]
  },
  {
   "cell_type": "code",
   "execution_count": 29,
   "id": "5f5df03f",
   "metadata": {
    "execution": {
     "iopub.execute_input": "2024-02-07T20:45:10.265125Z",
     "iopub.status.busy": "2024-02-07T20:45:10.264645Z",
     "iopub.status.idle": "2024-02-07T20:45:10.274696Z",
     "shell.execute_reply": "2024-02-07T20:45:10.273082Z"
    },
    "papermill": {
     "duration": 0.036084,
     "end_time": "2024-02-07T20:45:10.277576",
     "exception": false,
     "start_time": "2024-02-07T20:45:10.241492",
     "status": "completed"
    },
    "tags": []
   },
   "outputs": [],
   "source": [
    "model2_predictions = model2.predict(X_test)"
   ]
  },
  {
   "cell_type": "code",
   "execution_count": 30,
   "id": "4590449a",
   "metadata": {
    "execution": {
     "iopub.execute_input": "2024-02-07T20:45:10.321044Z",
     "iopub.status.busy": "2024-02-07T20:45:10.320582Z",
     "iopub.status.idle": "2024-02-07T20:45:10.328705Z",
     "shell.execute_reply": "2024-02-07T20:45:10.327072Z"
    },
    "papermill": {
     "duration": 0.033662,
     "end_time": "2024-02-07T20:45:10.331809",
     "exception": false,
     "start_time": "2024-02-07T20:45:10.298147",
     "status": "completed"
    },
    "tags": []
   },
   "outputs": [],
   "source": [
    "model2_accuracy = accuracy_score(y_test , model2_predictions)"
   ]
  },
  {
   "cell_type": "code",
   "execution_count": 31,
   "id": "d0b4bef3",
   "metadata": {
    "execution": {
     "iopub.execute_input": "2024-02-07T20:45:10.375988Z",
     "iopub.status.busy": "2024-02-07T20:45:10.375499Z",
     "iopub.status.idle": "2024-02-07T20:45:10.395413Z",
     "shell.execute_reply": "2024-02-07T20:45:10.394073Z"
    },
    "papermill": {
     "duration": 0.04606,
     "end_time": "2024-02-07T20:45:10.398430",
     "exception": false,
     "start_time": "2024-02-07T20:45:10.352370",
     "status": "completed"
    },
    "tags": []
   },
   "outputs": [
    {
     "name": "stdout",
     "output_type": "stream",
     "text": [
      "              precision    recall  f1-score   support\n",
      "\n",
      "       DrugY       1.00      1.00      1.00        15\n",
      "       drugA       1.00      1.00      1.00         6\n",
      "       drugB       1.00      1.00      1.00         3\n",
      "       drugC       1.00      1.00      1.00         5\n",
      "       drugX       1.00      1.00      1.00        11\n",
      "\n",
      "    accuracy                           1.00        40\n",
      "   macro avg       1.00      1.00      1.00        40\n",
      "weighted avg       1.00      1.00      1.00        40\n",
      "\n"
     ]
    }
   ],
   "source": [
    "print(classification_report(y_test , model2_predictions))"
   ]
  },
  {
   "cell_type": "markdown",
   "id": "8373d624",
   "metadata": {},
   "source": [
    "# Decision Tree Classifier"
   ]
  },
  {
   "cell_type": "code",
   "execution_count": 32,
   "id": "2c147c64",
   "metadata": {
    "execution": {
     "iopub.execute_input": "2024-02-07T20:45:11.050406Z",
     "iopub.status.busy": "2024-02-07T20:45:11.049886Z",
     "iopub.status.idle": "2024-02-07T20:45:11.063604Z",
     "shell.execute_reply": "2024-02-07T20:45:11.062068Z"
    },
    "papermill": {
     "duration": 0.039486,
     "end_time": "2024-02-07T20:45:11.066614",
     "exception": false,
     "start_time": "2024-02-07T20:45:11.027128",
     "status": "completed"
    },
    "tags": []
   },
   "outputs": [
    {
     "data": {
      "text/plain": [
       "DecisionTreeClassifier()"
      ]
     },
     "execution_count": 32,
     "metadata": {},
     "output_type": "execute_result"
    }
   ],
   "source": [
    "model3 = DecisionTreeClassifier()\n",
    "model3.fit(X_train, y_train)"
   ]
  },
  {
   "cell_type": "code",
   "execution_count": 33,
   "id": "ccad2b44",
   "metadata": {
    "execution": {
     "iopub.execute_input": "2024-02-07T20:45:11.111606Z",
     "iopub.status.busy": "2024-02-07T20:45:11.111100Z",
     "iopub.status.idle": "2024-02-07T20:45:11.123540Z",
     "shell.execute_reply": "2024-02-07T20:45:11.122134Z"
    },
    "papermill": {
     "duration": 0.038457,
     "end_time": "2024-02-07T20:45:11.126415",
     "exception": false,
     "start_time": "2024-02-07T20:45:11.087958",
     "status": "completed"
    },
    "tags": []
   },
   "outputs": [
    {
     "data": {
      "text/plain": [
       "1.0"
      ]
     },
     "execution_count": 33,
     "metadata": {},
     "output_type": "execute_result"
    }
   ],
   "source": [
    "model3.score(X_train , y_train)"
   ]
  },
  {
   "cell_type": "code",
   "execution_count": 34,
   "id": "10038ac7",
   "metadata": {
    "execution": {
     "iopub.execute_input": "2024-02-07T20:45:11.173089Z",
     "iopub.status.busy": "2024-02-07T20:45:11.172610Z",
     "iopub.status.idle": "2024-02-07T20:45:11.181613Z",
     "shell.execute_reply": "2024-02-07T20:45:11.179926Z"
    },
    "papermill": {
     "duration": 0.035739,
     "end_time": "2024-02-07T20:45:11.184333",
     "exception": false,
     "start_time": "2024-02-07T20:45:11.148594",
     "status": "completed"
    },
    "tags": []
   },
   "outputs": [],
   "source": [
    "model3_predictions = model3.predict(X_test)"
   ]
  },
  {
   "cell_type": "code",
   "execution_count": 35,
   "id": "564fea54",
   "metadata": {
    "execution": {
     "iopub.execute_input": "2024-02-07T20:45:11.233470Z",
     "iopub.status.busy": "2024-02-07T20:45:11.232417Z",
     "iopub.status.idle": "2024-02-07T20:45:11.242648Z",
     "shell.execute_reply": "2024-02-07T20:45:11.241326Z"
    },
    "papermill": {
     "duration": 0.038313,
     "end_time": "2024-02-07T20:45:11.245066",
     "exception": false,
     "start_time": "2024-02-07T20:45:11.206753",
     "status": "completed"
    },
    "tags": []
   },
   "outputs": [
    {
     "data": {
      "text/plain": [
       "1.0"
      ]
     },
     "execution_count": 35,
     "metadata": {},
     "output_type": "execute_result"
    }
   ],
   "source": [
    "model3_accuracy=accuracy_score(y_test , model3_predictions)\n",
    "model3_accuracy"
   ]
  },
  {
   "cell_type": "code",
   "execution_count": 36,
   "id": "6e0f78b5",
   "metadata": {
    "execution": {
     "iopub.execute_input": "2024-02-07T20:45:11.289207Z",
     "iopub.status.busy": "2024-02-07T20:45:11.288760Z",
     "iopub.status.idle": "2024-02-07T20:45:11.305809Z",
     "shell.execute_reply": "2024-02-07T20:45:11.304041Z"
    },
    "papermill": {
     "duration": 0.042643,
     "end_time": "2024-02-07T20:45:11.308655",
     "exception": false,
     "start_time": "2024-02-07T20:45:11.266012",
     "status": "completed"
    },
    "tags": []
   },
   "outputs": [
    {
     "name": "stdout",
     "output_type": "stream",
     "text": [
      "              precision    recall  f1-score   support\n",
      "\n",
      "       DrugY       1.00      1.00      1.00        15\n",
      "       drugA       1.00      1.00      1.00         6\n",
      "       drugB       1.00      1.00      1.00         3\n",
      "       drugC       1.00      1.00      1.00         5\n",
      "       drugX       1.00      1.00      1.00        11\n",
      "\n",
      "    accuracy                           1.00        40\n",
      "   macro avg       1.00      1.00      1.00        40\n",
      "weighted avg       1.00      1.00      1.00        40\n",
      "\n"
     ]
    }
   ],
   "source": [
    "print(classification_report(y_test , model3_predictions))"
   ]
  },
  {
   "cell_type": "markdown",
   "id": "83bec50c",
   "metadata": {},
   "source": [
    "# Scores"
   ]
  },
  {
   "cell_type": "code",
   "execution_count": 38,
   "id": "a8b87f7c",
   "metadata": {
    "execution": {
     "iopub.execute_input": "2024-02-07T20:45:11.975916Z",
     "iopub.status.busy": "2024-02-07T20:45:11.975502Z",
     "iopub.status.idle": "2024-02-07T20:45:11.990462Z",
     "shell.execute_reply": "2024-02-07T20:45:11.989014Z"
    },
    "papermill": {
     "duration": 0.040572,
     "end_time": "2024-02-07T20:45:11.993100",
     "exception": false,
     "start_time": "2024-02-07T20:45:11.952528",
     "status": "completed"
    },
    "tags": []
   },
   "outputs": [
    {
     "data": {
      "text/html": [
       "<div>\n",
       "<style scoped>\n",
       "    .dataframe tbody tr th:only-of-type {\n",
       "        vertical-align: middle;\n",
       "    }\n",
       "\n",
       "    .dataframe tbody tr th {\n",
       "        vertical-align: top;\n",
       "    }\n",
       "\n",
       "    .dataframe thead th {\n",
       "        text-align: right;\n",
       "    }\n",
       "</style>\n",
       "<table border=\"1\" class=\"dataframe\">\n",
       "  <thead>\n",
       "    <tr style=\"text-align: right;\">\n",
       "      <th></th>\n",
       "      <th>models</th>\n",
       "      <th>scores</th>\n",
       "    </tr>\n",
       "  </thead>\n",
       "  <tbody>\n",
       "    <tr>\n",
       "      <th>0</th>\n",
       "      <td>Random_forest</td>\n",
       "      <td>1.0</td>\n",
       "    </tr>\n",
       "    <tr>\n",
       "      <th>1</th>\n",
       "      <td>SVC</td>\n",
       "      <td>1.0</td>\n",
       "    </tr>\n",
       "    <tr>\n",
       "      <th>2</th>\n",
       "      <td>Decision_Tree</td>\n",
       "      <td>1.0</td>\n",
       "    </tr>\n",
       "  </tbody>\n",
       "</table>\n",
       "</div>"
      ],
      "text/plain": [
       "          models  scores\n",
       "0  Random_forest     1.0\n",
       "1            SVC     1.0\n",
       "2  Decision_Tree     1.0"
      ]
     },
     "execution_count": 38,
     "metadata": {},
     "output_type": "execute_result"
    }
   ],
   "source": [
    "models=pd.DataFrame({\n",
    "    'models':['Random_forest','SVC','Decision_Tree'],\n",
    "    'scores':[model1_accuracy,model2_accuracy,model3_accuracy]})\n",
    "models.sort_values(by='scores',ascending=False)"
   ]
  },
  {
   "cell_type": "code",
   "execution_count": null,
   "id": "db70eb78",
   "metadata": {},
   "outputs": [],
   "source": []
  }
 ],
 "metadata": {
  "kaggle": {
   "accelerator": "none",
   "dataSources": [
    {
     "datasetId": 830916,
     "sourceId": 1419436,
     "sourceType": "datasetVersion"
    }
   ],
   "dockerImageVersionId": 30646,
   "isGpuEnabled": false,
   "isInternetEnabled": true,
   "language": "python",
   "sourceType": "notebook"
  },
  "kernelspec": {
   "display_name": "Python 3 (ipykernel)",
   "language": "python",
   "name": "python3"
  },
  "language_info": {
   "codemirror_mode": {
    "name": "ipython",
    "version": 3
   },
   "file_extension": ".py",
   "mimetype": "text/x-python",
   "name": "python",
   "nbconvert_exporter": "python",
   "pygments_lexer": "ipython3",
   "version": "3.9.7"
  },
  "papermill": {
   "default_parameters": {},
   "duration": 13.304883,
   "end_time": "2024-02-07T20:45:12.840515",
   "environment_variables": {},
   "exception": null,
   "input_path": "__notebook__.ipynb",
   "output_path": "__notebook__.ipynb",
   "parameters": {},
   "start_time": "2024-02-07T20:44:59.535632",
   "version": "2.5.0"
  }
 },
 "nbformat": 4,
 "nbformat_minor": 5
}
